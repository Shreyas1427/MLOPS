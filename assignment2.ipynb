{
 "cells": [
  {
   "cell_type": "markdown",
   "metadata": {},
   "source": [
    "Assignment 2"
   ]
  },
  {
   "cell_type": "markdown",
   "metadata": {},
   "source": [
    "Name: Shreyas Kempwade"
   ]
  },
  {
   "cell_type": "markdown",
   "metadata": {},
   "source": [
    "Q1 Which name will be printed in below multiple inheritance? Hint: Use MRO\n"
   ]
  },
  {
   "cell_type": "code",
   "execution_count": 3,
   "metadata": {},
   "outputs": [
    {
     "name": "stdout",
     "output_type": "stream",
     "text": [
      "Child1\n",
      "Father\n"
     ]
    },
    {
     "ename": "TypeError",
     "evalue": "Cannot create a consistent method resolution\norder (MRO) for bases Person, Father, Mother",
     "output_type": "error",
     "traceback": [
      "\u001b[1;31m---------------------------------------------------------------------------\u001b[0m",
      "\u001b[1;31mTypeError\u001b[0m                                 Traceback (most recent call last)",
      "Cell \u001b[1;32mIn[3], line 24\u001b[0m\n\u001b[0;32m     21\u001b[0m child2 \u001b[38;5;241m=\u001b[39m Child2()\n\u001b[0;32m     22\u001b[0m child2\u001b[38;5;241m.\u001b[39mname()\n\u001b[1;32m---> 24\u001b[0m \u001b[38;5;28;43;01mclass\u001b[39;49;00m\u001b[43m \u001b[49m\u001b[38;5;21;43;01mChild3\u001b[39;49;00m\u001b[43m(\u001b[49m\u001b[43mPerson\u001b[49m\u001b[43m,\u001b[49m\u001b[43m \u001b[49m\u001b[43mFather\u001b[49m\u001b[43m,\u001b[49m\u001b[43m \u001b[49m\u001b[43mMother\u001b[49m\u001b[43m)\u001b[49m\u001b[43m:\u001b[49m\n\u001b[0;32m     25\u001b[0m \u001b[43m   \u001b[49m\u001b[38;5;28;43;01mpass\u001b[39;49;00m\n\u001b[0;32m     26\u001b[0m child3 \u001b[38;5;241m=\u001b[39m Child3()\n",
      "\u001b[1;31mTypeError\u001b[0m: Cannot create a consistent method resolution\norder (MRO) for bases Person, Father, Mother"
     ]
    }
   ],
   "source": [
    "class Person:\n",
    "    def name(self):\n",
    "        print(\"Person\")\n",
    "\n",
    "class Father(Person):\n",
    "    def name(self):\n",
    "        print(\"Father\")\n",
    "\n",
    "class Mother(Person):\n",
    "    def name(self):\n",
    "        print(\"Mother\")\n",
    "\n",
    "class Child1(Father, Mother, Person):\n",
    "    def name(self):\n",
    "        print(\"Child1\")\n",
    "child1 = Child1()\n",
    "child1.name()\n",
    "\n",
    "class Child2(Father, Mother, Person):\n",
    "    pass \n",
    "child2 = Child2()\n",
    "child2.name()\n",
    "\n",
    "class Child3(Person, Father, Mother):\n",
    "   pass\n",
    "child3 = Child3()\n",
    "print(child3.name())"
   ]
  },
  {
   "cell_type": "markdown",
   "metadata": {},
   "source": [
    "Q2 Which name will be printed in below multiple inheritance? Hint: Use MRO"
   ]
  },
  {
   "cell_type": "code",
   "execution_count": 4,
   "metadata": {},
   "outputs": [
    {
     "name": "stdout",
     "output_type": "stream",
     "text": [
      "[<class '__main__.A3'>, <class '__main__.A2'>, <class '__main__.A1'>, <class '__main__.B2'>, <class '__main__.B1'>, <class '__main__.C1'>, <class 'object'>]\n",
      "A1\n"
     ]
    }
   ],
   "source": [
    "class A1:\n",
    "    def name(self):\n",
    "        print(\"A1\")\n",
    "\n",
    "class B1:\n",
    "    def name(self):\n",
    "        print(\"B1\")\n",
    "\n",
    "class C1:\n",
    "    def name(self):\n",
    "        print(\"C1\")\n",
    "\n",
    "class A2(A1, B1):\n",
    "    pass\n",
    "\n",
    "class B2(B1, C1):\n",
    "    pass\n",
    "\n",
    "class A3(A2, B2):\n",
    "    pass\n",
    "\n",
    "print(A3.mro())\n",
    "a3 = A3()\n",
    "a3.name()"
   ]
  },
  {
   "cell_type": "markdown",
   "metadata": {},
   "source": [
    "Q3 Write a program to create a list of cubes of first 10 positive integers using list comprehension i.e, [1, 8, 27, 64, 125, 216, 343, 512, 729]"
   ]
  },
  {
   "cell_type": "code",
   "execution_count": 5,
   "metadata": {},
   "outputs": [
    {
     "name": "stdout",
     "output_type": "stream",
     "text": [
      "[1, 8, 27, 64, 125, 216, 343, 512, 729, 1000]\n"
     ]
    }
   ],
   "source": [
    "cube = [x**3 for x in range(1, 11)]\n",
    "\n",
    "print(cube)"
   ]
  }
 ],
 "metadata": {
  "kernelspec": {
   "display_name": "Python 3",
   "language": "python",
   "name": "python3"
  },
  "language_info": {
   "codemirror_mode": {
    "name": "ipython",
    "version": 3
   },
   "file_extension": ".py",
   "mimetype": "text/x-python",
   "name": "python",
   "nbconvert_exporter": "python",
   "pygments_lexer": "ipython3",
   "version": "3.12.4"
  }
 },
 "nbformat": 4,
 "nbformat_minor": 2
}
